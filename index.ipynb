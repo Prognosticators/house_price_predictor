{
  "nbformat": 4,
  "nbformat_minor": 0,
  "metadata": {
    "colab": {
      "name": "Copy of index.ipynb",
      "provenance": [],
      "collapsed_sections": [],
      "include_colab_link": true
    },
    "kernelspec": {
      "name": "python3",
      "display_name": "Python 3"
    },
    "language_info": {
      "name": "python"
    }
  },
  "cells": [
    {
      "cell_type": "markdown",
      "metadata": {
        "id": "view-in-github",
        "colab_type": "text"
      },
      "source": [
        "<a href=\"https://colab.research.google.com/github/Prognosticators/house_price_predictor/blob/main/index.ipynb\" target=\"_parent\"><img src=\"https://colab.research.google.com/assets/colab-badge.svg\" alt=\"Open In Colab\"/></a>"
      ]
    },
    {
      "cell_type": "code",
      "metadata": {
        "colab": {
          "resources": {
            "http://localhost:8080/nbextensions/google.colab/files.js": {
              "data": "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",
              "ok": true,
              "headers": [
                [
                  "content-type",
                  "application/javascript"
                ]
              ],
              "status": 200,
              "status_text": ""
            }
          },
          "base_uri": "https://localhost:8080/",
          "height": 73
        },
        "id": "zctsDr7G2_HO",
        "outputId": "d655b253-7ba8-45c8-8d52-83b49a4591db"
      },
      "source": [
        "import pandas as pd\n",
        "import numpy as np\n",
        "import matplotlib as mlib\n",
        "import math\n",
        "\n",
        "from google.colab import files\n",
        "uploaded = files.upload()\n",
        "\n",
        "\n",
        "\n"
      ],
      "execution_count": null,
      "outputs": [
        {
          "output_type": "display_data",
          "data": {
            "text/html": [
              "\n",
              "     <input type=\"file\" id=\"files-e0830f23-49a0-433f-87e7-62dbe6094193\" name=\"files[]\" multiple disabled\n",
              "        style=\"border:none\" />\n",
              "     <output id=\"result-e0830f23-49a0-433f-87e7-62dbe6094193\">\n",
              "      Upload widget is only available when the cell has been executed in the\n",
              "      current browser session. Please rerun this cell to enable.\n",
              "      </output>\n",
              "      <script src=\"/nbextensions/google.colab/files.js\"></script> "
            ],
            "text/plain": [
              "<IPython.core.display.HTML object>"
            ]
          },
          "metadata": {}
        },
        {
          "output_type": "stream",
          "name": "stdout",
          "text": [
            "Saving housing.csv to housing.csv\n"
          ]
        }
      ]
    },
    {
      "cell_type": "code",
      "metadata": {
        "id": "i-QLUx9p3tZm"
      },
      "source": [
        "df = pd.read_csv('housing.csv')\n",
        "\n",
        "new_columns = ['longitude','latitude','house_age','rooms','bedrooms','poputation','households','income','price','ocean_proximity']\n",
        "df.columns = new_columns\n",
        "\n",
        "column_titles = ['longitude','latitude','house_age','rooms','bedrooms','poputation','households','income','ocean_proximity','price']\n",
        "df = df.reindex(columns = column_titles)\n",
        "\n",
        "#some data cleaning and tabulation"
      ],
      "execution_count": null,
      "outputs": []
    },
    {
      "cell_type": "code",
      "metadata": {
        "colab": {
          "base_uri": "https://localhost:8080/",
          "height": 206
        },
        "id": "wImAZxKvxadU",
        "outputId": "a5f34f91-bf7c-4c71-d674-c3335ace7735"
      },
      "source": [
        "## waste cell\n",
        "df.head()"
      ],
      "execution_count": null,
      "outputs": [
        {
          "output_type": "execute_result",
          "data": {
            "text/html": [
              "<div>\n",
              "<style scoped>\n",
              "    .dataframe tbody tr th:only-of-type {\n",
              "        vertical-align: middle;\n",
              "    }\n",
              "\n",
              "    .dataframe tbody tr th {\n",
              "        vertical-align: top;\n",
              "    }\n",
              "\n",
              "    .dataframe thead th {\n",
              "        text-align: right;\n",
              "    }\n",
              "</style>\n",
              "<table border=\"1\" class=\"dataframe\">\n",
              "  <thead>\n",
              "    <tr style=\"text-align: right;\">\n",
              "      <th></th>\n",
              "      <th>longitude</th>\n",
              "      <th>latitude</th>\n",
              "      <th>house_age</th>\n",
              "      <th>rooms</th>\n",
              "      <th>bedrooms</th>\n",
              "      <th>poputation</th>\n",
              "      <th>households</th>\n",
              "      <th>income</th>\n",
              "      <th>ocean_proximity</th>\n",
              "      <th>price</th>\n",
              "    </tr>\n",
              "  </thead>\n",
              "  <tbody>\n",
              "    <tr>\n",
              "      <th>0</th>\n",
              "      <td>-122.23</td>\n",
              "      <td>37.88</td>\n",
              "      <td>41.0</td>\n",
              "      <td>880.0</td>\n",
              "      <td>129.0</td>\n",
              "      <td>322.0</td>\n",
              "      <td>126.0</td>\n",
              "      <td>8.3252</td>\n",
              "      <td>NEAR BAY</td>\n",
              "      <td>452600.0</td>\n",
              "    </tr>\n",
              "    <tr>\n",
              "      <th>1</th>\n",
              "      <td>-122.22</td>\n",
              "      <td>37.86</td>\n",
              "      <td>21.0</td>\n",
              "      <td>7099.0</td>\n",
              "      <td>1106.0</td>\n",
              "      <td>2401.0</td>\n",
              "      <td>1138.0</td>\n",
              "      <td>8.3014</td>\n",
              "      <td>NEAR BAY</td>\n",
              "      <td>358500.0</td>\n",
              "    </tr>\n",
              "    <tr>\n",
              "      <th>2</th>\n",
              "      <td>-122.24</td>\n",
              "      <td>37.85</td>\n",
              "      <td>52.0</td>\n",
              "      <td>1467.0</td>\n",
              "      <td>190.0</td>\n",
              "      <td>496.0</td>\n",
              "      <td>177.0</td>\n",
              "      <td>7.2574</td>\n",
              "      <td>NEAR BAY</td>\n",
              "      <td>352100.0</td>\n",
              "    </tr>\n",
              "    <tr>\n",
              "      <th>3</th>\n",
              "      <td>-122.25</td>\n",
              "      <td>37.85</td>\n",
              "      <td>52.0</td>\n",
              "      <td>1274.0</td>\n",
              "      <td>235.0</td>\n",
              "      <td>558.0</td>\n",
              "      <td>219.0</td>\n",
              "      <td>5.6431</td>\n",
              "      <td>NEAR BAY</td>\n",
              "      <td>341300.0</td>\n",
              "    </tr>\n",
              "    <tr>\n",
              "      <th>4</th>\n",
              "      <td>-122.25</td>\n",
              "      <td>37.85</td>\n",
              "      <td>52.0</td>\n",
              "      <td>1627.0</td>\n",
              "      <td>280.0</td>\n",
              "      <td>565.0</td>\n",
              "      <td>259.0</td>\n",
              "      <td>3.8462</td>\n",
              "      <td>NEAR BAY</td>\n",
              "      <td>342200.0</td>\n",
              "    </tr>\n",
              "  </tbody>\n",
              "</table>\n",
              "</div>"
            ],
            "text/plain": [
              "   longitude  latitude  house_age  ...  income  ocean_proximity     price\n",
              "0    -122.23     37.88       41.0  ...  8.3252         NEAR BAY  452600.0\n",
              "1    -122.22     37.86       21.0  ...  8.3014         NEAR BAY  358500.0\n",
              "2    -122.24     37.85       52.0  ...  7.2574         NEAR BAY  352100.0\n",
              "3    -122.25     37.85       52.0  ...  5.6431         NEAR BAY  341300.0\n",
              "4    -122.25     37.85       52.0  ...  3.8462         NEAR BAY  342200.0\n",
              "\n",
              "[5 rows x 10 columns]"
            ]
          },
          "metadata": {},
          "execution_count": 5
        }
      ]
    },
    {
      "cell_type": "code",
      "metadata": {
        "id": "RlgbTm8j4Fdt"
      },
      "source": [
        "#df.isnull().sum()\n",
        "\n",
        "df.dropna(subset= ['bedrooms'],inplace=False)\n",
        "df['bedrooms'].fillna(value=np.mean(df['bedrooms']),inplace=True)\n",
        "\n",
        "# conversion to numerical values\n",
        "\n",
        "df['ocean_proximity'] = df.ocean_proximity.str.replace('NEAR BAY','0')\n",
        "df['ocean_proximity'] = df.ocean_proximity.str.replace('<1H OCEAN','1')\n",
        "df['ocean_proximity'] = df.ocean_proximity.str.replace('INLAND','2')\n",
        "df['ocean_proximity'] = df.ocean_proximity.str.replace('NEAR OCEAN','3')\n",
        "df['ocean_proximity'] = df.ocean_proximity.str.replace('ISLAND','4')\n",
        "\n"
      ],
      "execution_count": null,
      "outputs": []
    },
    {
      "cell_type": "code",
      "metadata": {
        "id": "eV9lVCSMxQ7Q"
      },
      "source": [
        "df['ocean_proximity'] = df.ocean_proximity.astype('float64')"
      ],
      "execution_count": null,
      "outputs": []
    },
    {
      "cell_type": "code",
      "metadata": {
        "id": "sz2K7CblFub_"
      },
      "source": [
        "#df.drop(df.iloc[:, 1:3], inplace = True, axis = 1) # to drop columns "
      ],
      "execution_count": null,
      "outputs": []
    },
    {
      "cell_type": "code",
      "metadata": {
        "id": "hc_qJ6vQ62GC"
      },
      "source": [
        "train_df, test_df, validate_df = np.split(df, [int(.8 * len(df)), int(.9 * len(df))])\n",
        "#splitting the data into train test and validate"
      ],
      "execution_count": null,
      "outputs": []
    },
    {
      "cell_type": "code",
      "metadata": {
        "colab": {
          "base_uri": "https://localhost:8080/",
          "height": 424
        },
        "id": "lPzWGzwIsgyc",
        "outputId": "cd9b1370-be2a-43bc-eba3-0cddff009f98"
      },
      "source": [
        "train_df"
      ],
      "execution_count": null,
      "outputs": [
        {
          "output_type": "execute_result",
          "data": {
            "text/html": [
              "<div>\n",
              "<style scoped>\n",
              "    .dataframe tbody tr th:only-of-type {\n",
              "        vertical-align: middle;\n",
              "    }\n",
              "\n",
              "    .dataframe tbody tr th {\n",
              "        vertical-align: top;\n",
              "    }\n",
              "\n",
              "    .dataframe thead th {\n",
              "        text-align: right;\n",
              "    }\n",
              "</style>\n",
              "<table border=\"1\" class=\"dataframe\">\n",
              "  <thead>\n",
              "    <tr style=\"text-align: right;\">\n",
              "      <th></th>\n",
              "      <th>longitude</th>\n",
              "      <th>latitude</th>\n",
              "      <th>house_age</th>\n",
              "      <th>rooms</th>\n",
              "      <th>bedrooms</th>\n",
              "      <th>poputation</th>\n",
              "      <th>households</th>\n",
              "      <th>income</th>\n",
              "      <th>ocean_proximity</th>\n",
              "      <th>price</th>\n",
              "    </tr>\n",
              "  </thead>\n",
              "  <tbody>\n",
              "    <tr>\n",
              "      <th>0</th>\n",
              "      <td>-122.23</td>\n",
              "      <td>37.88</td>\n",
              "      <td>41.0</td>\n",
              "      <td>880.0</td>\n",
              "      <td>129.0</td>\n",
              "      <td>322.0</td>\n",
              "      <td>126.0</td>\n",
              "      <td>8.3252</td>\n",
              "      <td>0.0</td>\n",
              "      <td>452600.0</td>\n",
              "    </tr>\n",
              "    <tr>\n",
              "      <th>1</th>\n",
              "      <td>-122.22</td>\n",
              "      <td>37.86</td>\n",
              "      <td>21.0</td>\n",
              "      <td>7099.0</td>\n",
              "      <td>1106.0</td>\n",
              "      <td>2401.0</td>\n",
              "      <td>1138.0</td>\n",
              "      <td>8.3014</td>\n",
              "      <td>0.0</td>\n",
              "      <td>358500.0</td>\n",
              "    </tr>\n",
              "    <tr>\n",
              "      <th>2</th>\n",
              "      <td>-122.24</td>\n",
              "      <td>37.85</td>\n",
              "      <td>52.0</td>\n",
              "      <td>1467.0</td>\n",
              "      <td>190.0</td>\n",
              "      <td>496.0</td>\n",
              "      <td>177.0</td>\n",
              "      <td>7.2574</td>\n",
              "      <td>0.0</td>\n",
              "      <td>352100.0</td>\n",
              "    </tr>\n",
              "    <tr>\n",
              "      <th>3</th>\n",
              "      <td>-122.25</td>\n",
              "      <td>37.85</td>\n",
              "      <td>52.0</td>\n",
              "      <td>1274.0</td>\n",
              "      <td>235.0</td>\n",
              "      <td>558.0</td>\n",
              "      <td>219.0</td>\n",
              "      <td>5.6431</td>\n",
              "      <td>0.0</td>\n",
              "      <td>341300.0</td>\n",
              "    </tr>\n",
              "    <tr>\n",
              "      <th>4</th>\n",
              "      <td>-122.25</td>\n",
              "      <td>37.85</td>\n",
              "      <td>52.0</td>\n",
              "      <td>1627.0</td>\n",
              "      <td>280.0</td>\n",
              "      <td>565.0</td>\n",
              "      <td>259.0</td>\n",
              "      <td>3.8462</td>\n",
              "      <td>0.0</td>\n",
              "      <td>342200.0</td>\n",
              "    </tr>\n",
              "    <tr>\n",
              "      <th>...</th>\n",
              "      <td>...</td>\n",
              "      <td>...</td>\n",
              "      <td>...</td>\n",
              "      <td>...</td>\n",
              "      <td>...</td>\n",
              "      <td>...</td>\n",
              "      <td>...</td>\n",
              "      <td>...</td>\n",
              "      <td>...</td>\n",
              "      <td>...</td>\n",
              "    </tr>\n",
              "    <tr>\n",
              "      <th>16507</th>\n",
              "      <td>-121.11</td>\n",
              "      <td>37.74</td>\n",
              "      <td>11.0</td>\n",
              "      <td>3886.0</td>\n",
              "      <td>599.0</td>\n",
              "      <td>1605.0</td>\n",
              "      <td>529.0</td>\n",
              "      <td>4.4213</td>\n",
              "      <td>2.0</td>\n",
              "      <td>182700.0</td>\n",
              "    </tr>\n",
              "    <tr>\n",
              "      <th>16508</th>\n",
              "      <td>-121.10</td>\n",
              "      <td>37.80</td>\n",
              "      <td>35.0</td>\n",
              "      <td>1853.0</td>\n",
              "      <td>331.0</td>\n",
              "      <td>958.0</td>\n",
              "      <td>340.0</td>\n",
              "      <td>3.3578</td>\n",
              "      <td>2.0</td>\n",
              "      <td>149000.0</td>\n",
              "    </tr>\n",
              "    <tr>\n",
              "      <th>16509</th>\n",
              "      <td>-121.11</td>\n",
              "      <td>37.76</td>\n",
              "      <td>22.0</td>\n",
              "      <td>2606.0</td>\n",
              "      <td>411.0</td>\n",
              "      <td>1252.0</td>\n",
              "      <td>397.0</td>\n",
              "      <td>4.1833</td>\n",
              "      <td>2.0</td>\n",
              "      <td>192100.0</td>\n",
              "    </tr>\n",
              "    <tr>\n",
              "      <th>16510</th>\n",
              "      <td>-121.16</td>\n",
              "      <td>37.73</td>\n",
              "      <td>7.0</td>\n",
              "      <td>4956.0</td>\n",
              "      <td>941.0</td>\n",
              "      <td>3006.0</td>\n",
              "      <td>915.0</td>\n",
              "      <td>3.4426</td>\n",
              "      <td>2.0</td>\n",
              "      <td>139000.0</td>\n",
              "    </tr>\n",
              "    <tr>\n",
              "      <th>16511</th>\n",
              "      <td>-121.25</td>\n",
              "      <td>37.76</td>\n",
              "      <td>22.0</td>\n",
              "      <td>2430.0</td>\n",
              "      <td>417.0</td>\n",
              "      <td>1292.0</td>\n",
              "      <td>391.0</td>\n",
              "      <td>3.4009</td>\n",
              "      <td>2.0</td>\n",
              "      <td>182400.0</td>\n",
              "    </tr>\n",
              "  </tbody>\n",
              "</table>\n",
              "<p>16512 rows × 10 columns</p>\n",
              "</div>"
            ],
            "text/plain": [
              "       longitude  latitude  house_age  ...  income  ocean_proximity     price\n",
              "0        -122.23     37.88       41.0  ...  8.3252              0.0  452600.0\n",
              "1        -122.22     37.86       21.0  ...  8.3014              0.0  358500.0\n",
              "2        -122.24     37.85       52.0  ...  7.2574              0.0  352100.0\n",
              "3        -122.25     37.85       52.0  ...  5.6431              0.0  341300.0\n",
              "4        -122.25     37.85       52.0  ...  3.8462              0.0  342200.0\n",
              "...          ...       ...        ...  ...     ...              ...       ...\n",
              "16507    -121.11     37.74       11.0  ...  4.4213              2.0  182700.0\n",
              "16508    -121.10     37.80       35.0  ...  3.3578              2.0  149000.0\n",
              "16509    -121.11     37.76       22.0  ...  4.1833              2.0  192100.0\n",
              "16510    -121.16     37.73        7.0  ...  3.4426              2.0  139000.0\n",
              "16511    -121.25     37.76       22.0  ...  3.4009              2.0  182400.0\n",
              "\n",
              "[16512 rows x 10 columns]"
            ]
          },
          "metadata": {},
          "execution_count": 11
        }
      ]
    },
    {
      "cell_type": "code",
      "metadata": {
        "colab": {
          "base_uri": "https://localhost:8080/"
        },
        "id": "xbAE2PclvhIB",
        "outputId": "ddd5f309-7138-492e-eae2-33d1e628950e"
      },
      "source": [
        "for col in (train_df.columns):\n",
        "  print(col) "
      ],
      "execution_count": null,
      "outputs": [
        {
          "output_type": "stream",
          "name": "stdout",
          "text": [
            "longitude\n",
            "latitude\n",
            "house_age\n",
            "rooms\n",
            "bedrooms\n",
            "poputation\n",
            "households\n",
            "income\n",
            "ocean_proximity\n",
            "price\n"
          ]
        }
      ]
    },
    {
      "cell_type": "code",
      "metadata": {
        "id": "p5LZvqCnBI_q"
      },
      "source": [
        "#         mean part 1\n",
        "def mean_from_sctrach(d1_col):\n",
        "  total = 0\n",
        "  for i in range(len(d1_col)):\n",
        "    total+=d1_col[i]\n",
        "  return(total/(i+1))\n"
      ],
      "execution_count": null,
      "outputs": []
    },
    {
      "cell_type": "code",
      "metadata": {
        "id": "QjeqdQ5yFKQn"
      },
      "source": [
        "#                                         mean  2\n",
        "def mean_from_sctrach(d1_col):\n",
        "  mean = (sum(d1_col))/len(d1_col)\n",
        "  return mean"
      ],
      "execution_count": null,
      "outputs": []
    },
    {
      "cell_type": "code",
      "metadata": {
        "id": "tutZJhtjFq8T"
      },
      "source": [
        "#  Standard deviation\n",
        "def std_from_sctrach(d1_col):\n",
        "  N = len(d1_col)\n",
        "  mean = mean_from_sctrach(d1_col)   # reuseblity of code -->\n",
        "  var  = sum(pow(x-mean,2) for x in d1_col) / N  # variance\n",
        "  std  = math.sqrt(var) \n",
        "  return std"
      ],
      "execution_count": null,
      "outputs": []
    },
    {
      "cell_type": "code",
      "metadata": {
        "colab": {
          "base_uri": "https://localhost:8080/"
        },
        "id": "XUO0qA3WCJmh",
        "outputId": "90c312f8-b48d-4eb4-88a9-9d70bb5ee9d0"
      },
      "source": [
        "total = 0\n",
        "for i in range(len(train_df['longitude'])):\n",
        "  total+=train_df['longitude'][i]\n",
        "print(total/(i+1))\n"
      ],
      "execution_count": null,
      "outputs": [
        {
          "output_type": "stream",
          "name": "stdout",
          "text": [
            "-119.1311476501919\n"
          ]
        }
      ]
    },
    {
      "cell_type": "code",
      "metadata": {
        "colab": {
          "base_uri": "https://localhost:8080/"
        },
        "id": "cQGoRmykCllj",
        "outputId": "2b8a8faf-0d17-4f00-95bd-5a98c3fd5a98"
      },
      "source": [
        "train_df['longitude'][0]"
      ],
      "execution_count": null,
      "outputs": [
        {
          "output_type": "execute_result",
          "data": {
            "text/plain": [
              "-122.23"
            ]
          },
          "metadata": {},
          "execution_count": 17
        }
      ]
    },
    {
      "cell_type": "code",
      "metadata": {
        "colab": {
          "base_uri": "https://localhost:8080/"
        },
        "id": "I2fnjR4zEBiS",
        "outputId": "1ba7cc8a-b493-4481-e05e-b8570452ecdc"
      },
      "source": [
        "mean_from_sctrach(train_df['longitude'])"
      ],
      "execution_count": null,
      "outputs": [
        {
          "output_type": "execute_result",
          "data": {
            "text/plain": [
              "-119.1311476501919"
            ]
          },
          "metadata": {},
          "execution_count": 18
        }
      ]
    },
    {
      "cell_type": "code",
      "metadata": {
        "colab": {
          "base_uri": "https://localhost:8080/"
        },
        "id": "HwZlgaMyvzMC",
        "outputId": "cb3b4851-5f74-41c4-fd66-039c985b2988"
      },
      "source": [
        "print(np.mean(train_df['longitude']))"
      ],
      "execution_count": null,
      "outputs": [
        {
          "output_type": "stream",
          "name": "stdout",
          "text": [
            "-119.1311476501919\n"
          ]
        }
      ]
    },
    {
      "cell_type": "code",
      "metadata": {
        "colab": {
          "base_uri": "https://localhost:8080/"
        },
        "id": "B8OZ6mOPG6IQ",
        "outputId": "4cb1e99c-26a1-49ed-a14d-4477f50b8bf5"
      },
      "source": [
        "std_from_sctrach(train_df['longitude'])"
      ],
      "execution_count": null,
      "outputs": [
        {
          "output_type": "execute_result",
          "data": {
            "text/plain": [
              "1.9227285840311916"
            ]
          },
          "metadata": {},
          "execution_count": 20
        }
      ]
    },
    {
      "cell_type": "code",
      "metadata": {
        "colab": {
          "base_uri": "https://localhost:8080/"
        },
        "id": "HtlujLGawHyl",
        "outputId": "9b948fa4-8219-4980-ec53-6037a17df56b"
      },
      "source": [
        "print(np.std(train_df['longitude']))"
      ],
      "execution_count": null,
      "outputs": [
        {
          "output_type": "stream",
          "name": "stdout",
          "text": [
            "1.9227285840311916\n"
          ]
        }
      ]
    },
    {
      "cell_type": "code",
      "metadata": {
        "colab": {
          "base_uri": "https://localhost:8080/"
        },
        "id": "_Mj_Fq8Fwuec",
        "outputId": "bf364882-fc15-4bcb-bf19-d259dd3503aa"
      },
      "source": [
        "train_df.dtypes"
      ],
      "execution_count": null,
      "outputs": [
        {
          "output_type": "execute_result",
          "data": {
            "text/plain": [
              "longitude          float64\n",
              "latitude           float64\n",
              "house_age          float64\n",
              "rooms              float64\n",
              "bedrooms           float64\n",
              "poputation         float64\n",
              "households         float64\n",
              "income             float64\n",
              "ocean_proximity    float64\n",
              "price              float64\n",
              "dtype: object"
            ]
          },
          "metadata": {},
          "execution_count": 22
        }
      ]
    },
    {
      "cell_type": "code",
      "metadata": {
        "id": "G3h1vZ7A0RqN"
      },
      "source": [
        "Old_train_df = train_df.copy()"
      ],
      "execution_count": null,
      "outputs": []
    },
    {
      "cell_type": "code",
      "metadata": {
        "id": "33BkqRHRsphZ"
      },
      "source": [
        "for col in (train_df.columns):\n",
        "  std = np.std(train_df[col])\n",
        "  Mean = np.mean(train_df[col])\n",
        "  train_df[col] = (train_df[col] - Mean)/ std"
      ],
      "execution_count": null,
      "outputs": []
    },
    {
      "cell_type": "code",
      "metadata": {
        "colab": {
          "base_uri": "https://localhost:8080/",
          "height": 424
        },
        "id": "2SC7JC2KvyJZ",
        "outputId": "43e29746-a4dc-4cfc-d7de-c0ce659c5241"
      },
      "source": [
        "train_df"
      ],
      "execution_count": null,
      "outputs": [
        {
          "output_type": "execute_result",
          "data": {
            "text/html": [
              "<div>\n",
              "<style scoped>\n",
              "    .dataframe tbody tr th:only-of-type {\n",
              "        vertical-align: middle;\n",
              "    }\n",
              "\n",
              "    .dataframe tbody tr th {\n",
              "        vertical-align: top;\n",
              "    }\n",
              "\n",
              "    .dataframe thead th {\n",
              "        text-align: right;\n",
              "    }\n",
              "</style>\n",
              "<table border=\"1\" class=\"dataframe\">\n",
              "  <thead>\n",
              "    <tr style=\"text-align: right;\">\n",
              "      <th></th>\n",
              "      <th>longitude</th>\n",
              "      <th>latitude</th>\n",
              "      <th>house_age</th>\n",
              "      <th>rooms</th>\n",
              "      <th>bedrooms</th>\n",
              "      <th>poputation</th>\n",
              "      <th>households</th>\n",
              "      <th>income</th>\n",
              "      <th>ocean_proximity</th>\n",
              "      <th>price</th>\n",
              "    </tr>\n",
              "  </thead>\n",
              "  <tbody>\n",
              "    <tr>\n",
              "      <th>0</th>\n",
              "      <td>-1.611695</td>\n",
              "      <td>1.258392</td>\n",
              "      <td>0.916627</td>\n",
              "      <td>-0.780765</td>\n",
              "      <td>-0.957118</td>\n",
              "      <td>-0.961217</td>\n",
              "      <td>-0.960953</td>\n",
              "      <td>2.417615</td>\n",
              "      <td>-1.695174</td>\n",
              "      <td>2.206947</td>\n",
              "    </tr>\n",
              "    <tr>\n",
              "      <th>1</th>\n",
              "      <td>-1.606494</td>\n",
              "      <td>1.248807</td>\n",
              "      <td>-0.647225</td>\n",
              "      <td>1.983551</td>\n",
              "      <td>1.295156</td>\n",
              "      <td>0.830056</td>\n",
              "      <td>1.614396</td>\n",
              "      <td>2.404898</td>\n",
              "      <td>-1.695174</td>\n",
              "      <td>1.378020</td>\n",
              "    </tr>\n",
              "    <tr>\n",
              "      <th>2</th>\n",
              "      <td>-1.616896</td>\n",
              "      <td>1.244014</td>\n",
              "      <td>1.776746</td>\n",
              "      <td>-0.519846</td>\n",
              "      <td>-0.816495</td>\n",
              "      <td>-0.811298</td>\n",
              "      <td>-0.831168</td>\n",
              "      <td>1.847079</td>\n",
              "      <td>-1.695174</td>\n",
              "      <td>1.321642</td>\n",
              "    </tr>\n",
              "    <tr>\n",
              "      <th>3</th>\n",
              "      <td>-1.622097</td>\n",
              "      <td>1.244014</td>\n",
              "      <td>1.776746</td>\n",
              "      <td>-0.605634</td>\n",
              "      <td>-0.712756</td>\n",
              "      <td>-0.757879</td>\n",
              "      <td>-0.724286</td>\n",
              "      <td>0.984544</td>\n",
              "      <td>-1.695174</td>\n",
              "      <td>1.226505</td>\n",
              "    </tr>\n",
              "    <tr>\n",
              "      <th>4</th>\n",
              "      <td>-1.622097</td>\n",
              "      <td>1.244014</td>\n",
              "      <td>1.776746</td>\n",
              "      <td>-0.448727</td>\n",
              "      <td>-0.609018</td>\n",
              "      <td>-0.751848</td>\n",
              "      <td>-0.622493</td>\n",
              "      <td>0.024444</td>\n",
              "      <td>-1.695174</td>\n",
              "      <td>1.234433</td>\n",
              "    </tr>\n",
              "    <tr>\n",
              "      <th>...</th>\n",
              "      <td>...</td>\n",
              "      <td>...</td>\n",
              "      <td>...</td>\n",
              "      <td>...</td>\n",
              "      <td>...</td>\n",
              "      <td>...</td>\n",
              "      <td>...</td>\n",
              "      <td>...</td>\n",
              "      <td>...</td>\n",
              "      <td>...</td>\n",
              "    </tr>\n",
              "    <tr>\n",
              "      <th>16507</th>\n",
              "      <td>-1.029190</td>\n",
              "      <td>1.191297</td>\n",
              "      <td>-1.429150</td>\n",
              "      <td>0.555388</td>\n",
              "      <td>0.126371</td>\n",
              "      <td>0.144220</td>\n",
              "      <td>0.064606</td>\n",
              "      <td>0.331725</td>\n",
              "      <td>0.708494</td>\n",
              "      <td>-0.170604</td>\n",
              "    </tr>\n",
              "    <tr>\n",
              "      <th>16508</th>\n",
              "      <td>-1.023989</td>\n",
              "      <td>1.220052</td>\n",
              "      <td>0.447472</td>\n",
              "      <td>-0.348271</td>\n",
              "      <td>-0.491448</td>\n",
              "      <td>-0.413238</td>\n",
              "      <td>-0.416363</td>\n",
              "      <td>-0.236513</td>\n",
              "      <td>0.708494</td>\n",
              "      <td>-0.467468</td>\n",
              "    </tr>\n",
              "    <tr>\n",
              "      <th>16509</th>\n",
              "      <td>-1.029190</td>\n",
              "      <td>1.200882</td>\n",
              "      <td>-0.569032</td>\n",
              "      <td>-0.013566</td>\n",
              "      <td>-0.307024</td>\n",
              "      <td>-0.159926</td>\n",
              "      <td>-0.271309</td>\n",
              "      <td>0.204560</td>\n",
              "      <td>0.708494</td>\n",
              "      <td>-0.087800</td>\n",
              "    </tr>\n",
              "    <tr>\n",
              "      <th>16510</th>\n",
              "      <td>-1.055194</td>\n",
              "      <td>1.186504</td>\n",
              "      <td>-1.741921</td>\n",
              "      <td>1.030997</td>\n",
              "      <td>0.914782</td>\n",
              "      <td>1.351326</td>\n",
              "      <td>1.046903</td>\n",
              "      <td>-0.191203</td>\n",
              "      <td>0.708494</td>\n",
              "      <td>-0.555558</td>\n",
              "    </tr>\n",
              "    <tr>\n",
              "      <th>16511</th>\n",
              "      <td>-1.102003</td>\n",
              "      <td>1.200882</td>\n",
              "      <td>-0.569032</td>\n",
              "      <td>-0.091797</td>\n",
              "      <td>-0.293193</td>\n",
              "      <td>-0.125462</td>\n",
              "      <td>-0.286578</td>\n",
              "      <td>-0.213484</td>\n",
              "      <td>0.708494</td>\n",
              "      <td>-0.173247</td>\n",
              "    </tr>\n",
              "  </tbody>\n",
              "</table>\n",
              "<p>16512 rows × 10 columns</p>\n",
              "</div>"
            ],
            "text/plain": [
              "       longitude  latitude  house_age  ...    income  ocean_proximity     price\n",
              "0      -1.611695  1.258392   0.916627  ...  2.417615        -1.695174  2.206947\n",
              "1      -1.606494  1.248807  -0.647225  ...  2.404898        -1.695174  1.378020\n",
              "2      -1.616896  1.244014   1.776746  ...  1.847079        -1.695174  1.321642\n",
              "3      -1.622097  1.244014   1.776746  ...  0.984544        -1.695174  1.226505\n",
              "4      -1.622097  1.244014   1.776746  ...  0.024444        -1.695174  1.234433\n",
              "...          ...       ...        ...  ...       ...              ...       ...\n",
              "16507  -1.029190  1.191297  -1.429150  ...  0.331725         0.708494 -0.170604\n",
              "16508  -1.023989  1.220052   0.447472  ... -0.236513         0.708494 -0.467468\n",
              "16509  -1.029190  1.200882  -0.569032  ...  0.204560         0.708494 -0.087800\n",
              "16510  -1.055194  1.186504  -1.741921  ... -0.191203         0.708494 -0.555558\n",
              "16511  -1.102003  1.200882  -0.569032  ... -0.213484         0.708494 -0.173247\n",
              "\n",
              "[16512 rows x 10 columns]"
            ]
          },
          "metadata": {},
          "execution_count": 25
        }
      ]
    },
    {
      "cell_type": "code",
      "metadata": {
        "id": "oN8EefDB9hHF"
      },
      "source": [
        "train_data = train_df.values\n",
        "\n",
        "\n",
        "X = train_data[:, :-1]\n",
        "Y = train_data[:,-1].reshape(train_data.shape[0],1)\n",
        "\n"
      ],
      "execution_count": null,
      "outputs": []
    },
    {
      "cell_type": "code",
      "metadata": {
        "colab": {
          "base_uri": "https://localhost:8080/"
        },
        "id": "iHaqym2w4HNK",
        "outputId": "5b1dd68b-5392-452d-f3f7-0eab717e7401"
      },
      "source": [
        "#waste cell\n",
        "Y = Y.astype('float64')\n",
        "Y"
      ],
      "execution_count": null,
      "outputs": [
        {
          "output_type": "execute_result",
          "data": {
            "text/plain": [
              "array([[ 2.2069475 ],\n",
              "       [ 1.37801963],\n",
              "       [ 1.32164197],\n",
              "       ...,\n",
              "       [-0.08779968],\n",
              "       [-0.55555813],\n",
              "       [-0.17324708]])"
            ]
          },
          "metadata": {},
          "execution_count": 27
        }
      ]
    },
    {
      "cell_type": "code",
      "metadata": {
        "id": "cQa9W21OH38g"
      },
      "source": [
        "def transpose_from_sctrach(d1_cols):\n",
        "  rows = d1_cols.shape[0]\n",
        "  cols = d1_cols.shape[1]\n",
        "  #res = [0]*rows # give memory to save result by initalizing by zero\n",
        "  new_d1 = np.zeros((cols,rows))\n",
        "\n",
        "\n",
        "  for i in range(rows):\n",
        "    for j in range(cols):\n",
        "      new_d1[j][i] = d1_cols[i][j]\n",
        "\n",
        "  return new_d1"
      ],
      "execution_count": null,
      "outputs": []
    },
    {
      "cell_type": "code",
      "metadata": {
        "id": "ry_cIL7dv42u"
      },
      "source": [
        "Q = np.vstack((np.ones((X.shape[0], )), X.T))\n",
        "X = Q.T\n",
        "\n",
        "#stacking ones and transposing"
      ],
      "execution_count": null,
      "outputs": []
    },
    {
      "cell_type": "code",
      "metadata": {
        "id": "gPgxknWFdRXP",
        "colab": {
          "base_uri": "https://localhost:8080/"
        },
        "outputId": "66cde360-ad25-4486-9e77-9136bc766810"
      },
      "source": [
        "print(X.dtype)\n",
        "print(Y.dtype)\n",
        "print(X)\n",
        "print(Y)"
      ],
      "execution_count": null,
      "outputs": [
        {
          "output_type": "stream",
          "name": "stdout",
          "text": [
            "float64\n",
            "float64\n",
            "[[ 1.         -1.61169516  1.25839198 ... -0.96095304  2.41761472\n",
            "  -1.69517359]\n",
            " [ 1.         -1.60649422  1.24880693 ...  1.61439588  2.40489816\n",
            "  -1.69517359]\n",
            " [ 1.         -1.6168961   1.2440144  ... -0.83116767  1.84707938\n",
            "  -1.69517359]\n",
            " ...\n",
            " [ 1.         -1.02918965  1.20088167 ... -0.27130921  0.20455956\n",
            "   0.70849376]\n",
            " [ 1.         -1.05519436  1.1865041  ...  1.04690299 -0.19120325\n",
            "   0.70849376]\n",
            " [ 1.         -1.10200283  1.20088167 ... -0.28657807 -0.21348394\n",
            "   0.70849376]]\n",
            "[[ 2.2069475 ]\n",
            " [ 1.37801963]\n",
            " [ 1.32164197]\n",
            " ...\n",
            " [-0.08779968]\n",
            " [-0.55555813]\n",
            " [-0.17324708]]\n"
          ]
        }
      ]
    },
    {
      "cell_type": "code",
      "metadata": {
        "colab": {
          "base_uri": "https://localhost:8080/"
        },
        "id": "qgavLHdGxGph",
        "outputId": "6a9a06e0-e2ad-490f-c517-0d4ed15459e1"
      },
      "source": [
        "## waste cell\n",
        "X = X.astype('float64')\n",
        "X.dtype\n",
        "print(X.shape)"
      ],
      "execution_count": null,
      "outputs": [
        {
          "output_type": "stream",
          "name": "stdout",
          "text": [
            "(16512, 10)\n"
          ]
        }
      ]
    },
    {
      "cell_type": "code",
      "metadata": {
        "id": "FbkBEq4CwCRz"
      },
      "source": [
        "# Waste Cell\n",
        "# theta = np.zeros((X.shape[1], 1))\n",
        "# theta = theta.astype(object)\n",
        "# theta.dtype\n",
        "def custommultiply(df1,df2):\n",
        "  result = np.zeros((df1.shape[0],df2.shape[1]))\n",
        "\n",
        "  for i in range(df1.shape[0]):\n",
        "    for j in range(df2.shape[1]):\n",
        "        for k in range(df1.shape[1]):\n",
        "            result[i][j] += df1[i][k] * df2[k][j]\n",
        "  return result\n"
      ],
      "execution_count": null,
      "outputs": []
    },
    {
      "cell_type": "code",
      "metadata": {
        "colab": {
          "base_uri": "https://localhost:8080/"
        },
        "id": "0gj9ZSE8EOgq",
        "outputId": "f32a0adc-fad8-4181-94a0-b088f9e91d8a"
      },
      "source": [
        "a = np.array([[1,1,1],[2,3,2]])\n",
        "b = np.array([[1,2],[2,3],[3,4]])\n",
        "c = custommultiply(a,b)\n",
        "print(c)\n"
      ],
      "execution_count": null,
      "outputs": [
        {
          "output_type": "stream",
          "name": "stdout",
          "text": [
            "[[ 6.  9.]\n",
            " [14. 21.]]\n"
          ]
        }
      ]
    },
    {
      "cell_type": "code",
      "metadata": {
        "id": "Fp7G_CSPwHP9"
      },
      "source": [
        "\n",
        "#our model for multiple regression\n",
        "def model(X, Y, learning_rate, iteration):\n",
        "  #learning_rate -> alpha\n",
        "  #iteration -> basically how many times we want to run the loop\n",
        "\n",
        "  m = Y.size\n",
        "  theta = np.zeros((X.shape[1], 1))\n",
        "  cost_list = []\n",
        "\n",
        "\n",
        "  for i in range(iteration):\n",
        "\n",
        "    #y_pred = np.dot(X, theta)\n",
        "    y_pred = custommultiply(X, theta)\n",
        "    cost = (1/(2*m))*np.sum(np.square(y_pred - Y))\n",
        "\n",
        "    d_theta = (1/m)*np.dot(X.T, y_pred - Y)\n",
        "    theta = theta - learning_rate*d_theta\n",
        "\n",
        "    cost_list.append(cost)\n",
        "\n",
        "    if(i%(iteration/100) == 0):\n",
        "      print(\"Cost is :\", cost)\n",
        "\n",
        "  return theta, cost_list"
      ],
      "execution_count": null,
      "outputs": []
    },
    {
      "cell_type": "code",
      "metadata": {
        "id": "VprwUg_vALd5"
      },
      "source": [
        "iteration = 200 #trying with higher iteration setting to get better result\n",
        "learning_rate = 0.01\n",
        "theta, cost_list = model (X, Y, learning_rate = learning_rate, iteration = iteration)\n",
        "#Iteration - 200 || Learning rate - 0.01 || Time - 1 min 2 sec ||  error - 0.35 || 1st time\n",
        "#Iteration - 200 || Learning rate - 0.01 || Time - 1 min 2 sec ||  error - 0.62 || 2nd time\n",
        "#Iteration - 100 || Learning rate - 0.01 || Time - 31 sec ||  error - 1.79\n",
        "#Iteration - 100 || Learning rate - 0.005 || Time - 30 sec ||  error - 2.71\n",
        "#Iteration - 200 || Learning rate - 0.005 || Time - 1 min 1 sec ||  error - 2.285\n",
        "#Iteration - 200 || Learning rate - 0.02 || Time - 1 min 2 sec ||  error - 6.46\n",
        "#Iteration - 300 || Learning rate - 0.01 || Time - 1 min 33 sec ||  error - 1.5"
      ],
      "execution_count": null,
      "outputs": []
    },
    {
      "cell_type": "code",
      "metadata": {
        "colab": {
          "base_uri": "https://localhost:8080/"
        },
        "id": "iwKyq-C_wQNk",
        "outputId": "7653c32b-389c-4b2b-dfdb-c96f4a20243f"
      },
      "source": [
        "\n",
        "iteration = 200 #trying with higher iteration setting to get better result\n",
        "learning_rate = 0.01\n",
        "theta, cost_list = model (X, Y, learning_rate = learning_rate, iteration = iteration)\n",
        "#Iteration - 200 || Learning rate - 0.01 || Time - 1 min 2 sec ||  error - 0.35 || 1st time\n",
        "#Iteration - 200 || Learning rate - 0.01 || Time - 1 min 2 sec ||  error - 0.62 || 2nd time\n",
        "#Iteration - 100 || Learning rate - 0.01 || Time - 31 sec ||  error - 1.79\n",
        "#Iteration - 100 || Learning rate - 0.005 || Time - 30 sec ||  error - 2.71\n",
        "#Iteration - 200 || Learning rate - 0.005 || Time - 1 min 1 sec ||  error - 2.285\n",
        "#Iteration - 200 || Learning rate - 0.02 || Time - 1 min 2 sec ||  error - 6.46\n",
        "#Iteration - 300 || Learning rate - 0.01 || Time - 1 min 33 sec ||  error - 1.53"
      ],
      "execution_count": null,
      "outputs": [
        {
          "output_type": "stream",
          "name": "stdout",
          "text": [
            "Cost is : 0.5000000000000089\n",
            "Cost is : 0.4828026821186889\n",
            "Cost is : 0.4667736788925683\n",
            "Cost is : 0.451821967514429\n",
            "Cost is : 0.4378655935788165\n",
            "Cost is : 0.4248304225419901\n",
            "Cost is : 0.4126491116015451\n",
            "Cost is : 0.40126025808349436\n",
            "Cost is : 0.3906076895783333\n",
            "Cost is : 0.3806398682837367\n",
            "Cost is : 0.3713093877022688\n",
            "Cost is : 0.3625725443322037\n",
            "Cost is : 0.35438897053351137\n",
            "Cost is : 0.34672131755014457\n",
            "Cost is : 0.3395349798820642\n",
            "Cost is : 0.33279785395038985\n",
            "Cost is : 0.32648012538461185\n",
            "Cost is : 0.32055408035904703\n",
            "Cost is : 0.3149939372773655\n",
            "Cost is : 0.30977569579685943\n",
            "Cost is : 0.30487700073580226\n",
            "Cost is : 0.3002770188474143\n",
            "Cost is : 0.2959563267959513\n",
            "Cost is : 0.2918968089526884\n",
            "Cost is : 0.28808156385657885\n",
            "Cost is : 0.28449481836757123\n",
            "Cost is : 0.28112184868898904\n",
            "Cost is : 0.27794890755614743\n",
            "Cost is : 0.27496315698710705\n",
            "Cost is : 0.27215260607260827\n",
            "Cost is : 0.26950605334929234\n",
            "Cost is : 0.26701303335608106\n",
            "Cost is : 0.26466376702026534\n",
            "Cost is : 0.26244911555918066\n",
            "Cost is : 0.2603605376167222\n",
            "Cost is : 0.25839004938247556\n",
            "Cost is : 0.2565301874657887\n",
            "Cost is : 0.2547739743183941\n",
            "Cost is : 0.25311488601776794\n",
            "Cost is : 0.2515468222397395\n",
            "Cost is : 0.2500640782633011\n",
            "Cost is : 0.24866131886341264\n",
            "Cost is : 0.2473335539590867\n",
            "Cost is : 0.2460761158943707\n",
            "Cost is : 0.24488463823917392\n",
            "Cost is : 0.24375503600535411\n",
            "Cost is : 0.24268348718118404\n",
            "Cost is : 0.24166641549435844\n",
            "Cost is : 0.24070047432015051\n",
            "Cost is : 0.23978253165725286\n",
            "Cost is : 0.2389096560992866\n",
            "Cost is : 0.2380791037349943\n",
            "Cost is : 0.23728830591477645\n",
            "Cost is : 0.23653485782552996\n",
            "Cost is : 0.2358165078197272\n",
            "Cost is : 0.23513114744836866\n",
            "Cost is : 0.2344768021508663\n",
            "Cost is : 0.23385162255809952\n",
            "Cost is : 0.23325387636784448\n",
            "Cost is : 0.23268194075452933\n",
            "Cost is : 0.23213429527782775\n",
            "Cost is : 0.2316095152569892\n",
            "Cost is : 0.23110626558002323\n",
            "Cost is : 0.23062329491892342\n",
            "Cost is : 0.23015943032404385\n",
            "Cost is : 0.22971357217253852\n",
            "Cost is : 0.2292846894474474\n",
            "Cost is : 0.22887181532557338\n",
            "Cost is : 0.22847404305375393\n",
            "Cost is : 0.22809052209448566\n",
            "Cost is : 0.22772045452312786\n",
            "Cost is : 0.22736309166009433\n",
            "Cost is : 0.22701773092254282\n",
            "Cost is : 0.226683712881102\n",
            "Cost is : 0.2263604185081346\n",
            "Cost is : 0.22604726660493146\n",
            "Cost is : 0.22574371139606708\n",
            "Cost is : 0.22544924027992658\n",
            "Cost is : 0.2251633717251435\n",
            "Cost is : 0.22488565330336577\n",
            "Cost is : 0.22461565984940224\n",
            "Cost is : 0.2243529917403936\n",
            "Cost is : 0.22409727328620574\n",
            "Cost is : 0.22384815122375593\n",
            "Cost is : 0.22360529330846812\n",
            "Cost is : 0.22336838699649966\n",
            "Cost is : 0.22313713821180267\n",
            "Cost is : 0.22291127019247606\n",
            "Cost is : 0.22269052241122803\n",
            "Cost is : 0.2224746495651115\n",
            "Cost is : 0.22226342063001422\n",
            "Cost is : 0.22205661797568121\n",
            "Cost is : 0.22185403653732766\n",
            "Cost is : 0.2216554830401571\n",
            "Cost is : 0.2214607752733452\n",
            "Cost is : 0.22126974141027214\n",
            "Cost is : 0.22108221937200137\n",
            "Cost is : 0.22089805623119776\n",
            "Cost is : 0.22071710765386265\n",
            "Cost is : 0.22053923737643608\n"
          ]
        }
      ]
    },
    {
      "cell_type": "code",
      "metadata": {
        "colab": {
          "base_uri": "https://localhost:8080/",
          "height": 265
        },
        "id": "Eq-Asb7TBFhc",
        "outputId": "cfbb41a1-bcd9-4a69-8023-51b704510d0c"
      },
      "source": [
        "\n",
        "rng = np.arange(0, iteration)\n",
        "mlib.pyplot.plot(rng, cost_list)\n",
        "mlib.pyplot.show()"
      ],
      "execution_count": null,
      "outputs": [
        {
          "output_type": "display_data",
          "data": {
            "image/png": "[encoded data removed]",
            "text/plain": [
              "<Figure size 432x288 with 1 Axes>"
            ]
          },
          "metadata": {
            "needs_background": "light"
          }
        }
      ]
    },
    {
      "cell_type": "code",
      "metadata": {
        "colab": {
          "base_uri": "https://localhost:8080/",
          "height": 424
        },
        "id": "SqW8SasnyaUy",
        "outputId": "15f5f07a-3506-4abe-baf2-056d701f4a21"
      },
      "source": [
        "test_df"
      ],
      "execution_count": null,
      "outputs": [
        {
          "output_type": "execute_result",
          "data": {
            "text/html": [
              "<div>\n",
              "<style scoped>\n",
              "    .dataframe tbody tr th:only-of-type {\n",
              "        vertical-align: middle;\n",
              "    }\n",
              "\n",
              "    .dataframe tbody tr th {\n",
              "        vertical-align: top;\n",
              "    }\n",
              "\n",
              "    .dataframe thead th {\n",
              "        text-align: right;\n",
              "    }\n",
              "</style>\n",
              "<table border=\"1\" class=\"dataframe\">\n",
              "  <thead>\n",
              "    <tr style=\"text-align: right;\">\n",
              "      <th></th>\n",
              "      <th>longitude</th>\n",
              "      <th>latitude</th>\n",
              "      <th>house_age</th>\n",
              "      <th>rooms</th>\n",
              "      <th>bedrooms</th>\n",
              "      <th>poputation</th>\n",
              "      <th>households</th>\n",
              "      <th>income</th>\n",
              "      <th>ocean_proximity</th>\n",
              "      <th>price</th>\n",
              "    </tr>\n",
              "  </thead>\n",
              "  <tbody>\n",
              "    <tr>\n",
              "      <th>16512</th>\n",
              "      <td>127.767280</td>\n",
              "      <td>-32.249810</td>\n",
              "      <td>-2.483457</td>\n",
              "      <td>-1.172442</td>\n",
              "      <td>-1.257399</td>\n",
              "      <td>-1.239722</td>\n",
              "      <td>-1.284869</td>\n",
              "      <td>-4.313958</td>\n",
              "      <td>-19.453229</td>\n",
              "      <td>-1.780026</td>\n",
              "    </tr>\n",
              "    <tr>\n",
              "      <th>16513</th>\n",
              "      <td>127.767280</td>\n",
              "      <td>-32.249559</td>\n",
              "      <td>-2.483457</td>\n",
              "      <td>-1.172442</td>\n",
              "      <td>-1.257399</td>\n",
              "      <td>-1.239722</td>\n",
              "      <td>-1.284869</td>\n",
              "      <td>-4.307309</td>\n",
              "      <td>-19.453229</td>\n",
              "      <td>-1.780026</td>\n",
              "    </tr>\n",
              "    <tr>\n",
              "      <th>16514</th>\n",
              "      <td>127.767280</td>\n",
              "      <td>-32.249587</td>\n",
              "      <td>-2.483457</td>\n",
              "      <td>-1.172442</td>\n",
              "      <td>-1.257399</td>\n",
              "      <td>-1.239722</td>\n",
              "      <td>-1.284869</td>\n",
              "      <td>-4.317400</td>\n",
              "      <td>-19.453229</td>\n",
              "      <td>-1.780026</td>\n",
              "    </tr>\n",
              "    <tr>\n",
              "      <th>16515</th>\n",
              "      <td>127.767280</td>\n",
              "      <td>-32.249587</td>\n",
              "      <td>-2.483457</td>\n",
              "      <td>-1.172442</td>\n",
              "      <td>-1.257399</td>\n",
              "      <td>-1.239722</td>\n",
              "      <td>-1.284869</td>\n",
              "      <td>-4.317358</td>\n",
              "      <td>-19.453229</td>\n",
              "      <td>-1.780026</td>\n",
              "    </tr>\n",
              "    <tr>\n",
              "      <th>16516</th>\n",
              "      <td>127.767333</td>\n",
              "      <td>-32.249559</td>\n",
              "      <td>-2.483457</td>\n",
              "      <td>-1.172442</td>\n",
              "      <td>-1.257399</td>\n",
              "      <td>-1.239722</td>\n",
              "      <td>-1.284869</td>\n",
              "      <td>-4.311578</td>\n",
              "      <td>-19.453229</td>\n",
              "      <td>-1.780026</td>\n",
              "    </tr>\n",
              "    <tr>\n",
              "      <th>...</th>\n",
              "      <td>...</td>\n",
              "      <td>...</td>\n",
              "      <td>...</td>\n",
              "      <td>...</td>\n",
              "      <td>...</td>\n",
              "      <td>...</td>\n",
              "      <td>...</td>\n",
              "      <td>...</td>\n",
              "      <td>...</td>\n",
              "      <td>...</td>\n",
              "    </tr>\n",
              "    <tr>\n",
              "      <th>18571</th>\n",
              "      <td>127.764389</td>\n",
              "      <td>-32.252036</td>\n",
              "      <td>-2.483457</td>\n",
              "      <td>-1.172442</td>\n",
              "      <td>-1.257399</td>\n",
              "      <td>-1.239722</td>\n",
              "      <td>-1.284869</td>\n",
              "      <td>-4.308805</td>\n",
              "      <td>-23.805891</td>\n",
              "      <td>-1.780026</td>\n",
              "    </tr>\n",
              "    <tr>\n",
              "      <th>18572</th>\n",
              "      <td>127.764442</td>\n",
              "      <td>-32.252064</td>\n",
              "      <td>-2.483457</td>\n",
              "      <td>-1.172442</td>\n",
              "      <td>-1.257399</td>\n",
              "      <td>-1.239722</td>\n",
              "      <td>-1.284869</td>\n",
              "      <td>-4.320264</td>\n",
              "      <td>-23.805891</td>\n",
              "      <td>-1.780026</td>\n",
              "    </tr>\n",
              "    <tr>\n",
              "      <th>18573</th>\n",
              "      <td>127.764389</td>\n",
              "      <td>-32.252064</td>\n",
              "      <td>-2.483457</td>\n",
              "      <td>-1.172442</td>\n",
              "      <td>-1.257399</td>\n",
              "      <td>-1.239722</td>\n",
              "      <td>-1.284869</td>\n",
              "      <td>-4.318448</td>\n",
              "      <td>-23.805891</td>\n",
              "      <td>-1.780026</td>\n",
              "    </tr>\n",
              "    <tr>\n",
              "      <th>18574</th>\n",
              "      <td>127.764442</td>\n",
              "      <td>-32.252064</td>\n",
              "      <td>-2.483457</td>\n",
              "      <td>-1.172442</td>\n",
              "      <td>-1.257399</td>\n",
              "      <td>-1.239722</td>\n",
              "      <td>-1.284869</td>\n",
              "      <td>-4.314469</td>\n",
              "      <td>-23.805891</td>\n",
              "      <td>-1.780026</td>\n",
              "    </tr>\n",
              "    <tr>\n",
              "      <th>18575</th>\n",
              "      <td>127.764335</td>\n",
              "      <td>-32.252064</td>\n",
              "      <td>-2.483457</td>\n",
              "      <td>-1.172442</td>\n",
              "      <td>-1.257399</td>\n",
              "      <td>-1.239722</td>\n",
              "      <td>-1.284869</td>\n",
              "      <td>-4.312643</td>\n",
              "      <td>-23.805891</td>\n",
              "      <td>-1.780026</td>\n",
              "    </tr>\n",
              "  </tbody>\n",
              "</table>\n",
              "<p>2064 rows × 10 columns</p>\n",
              "</div>"
            ],
            "text/plain": [
              "        longitude   latitude  house_age  ...    income  ocean_proximity     price\n",
              "16512  127.767280 -32.249810  -2.483457  ... -4.313958       -19.453229 -1.780026\n",
              "16513  127.767280 -32.249559  -2.483457  ... -4.307309       -19.453229 -1.780026\n",
              "16514  127.767280 -32.249587  -2.483457  ... -4.317400       -19.453229 -1.780026\n",
              "16515  127.767280 -32.249587  -2.483457  ... -4.317358       -19.453229 -1.780026\n",
              "16516  127.767333 -32.249559  -2.483457  ... -4.311578       -19.453229 -1.780026\n",
              "...           ...        ...        ...  ...       ...              ...       ...\n",
              "18571  127.764389 -32.252036  -2.483457  ... -4.308805       -23.805891 -1.780026\n",
              "18572  127.764442 -32.252064  -2.483457  ... -4.320264       -23.805891 -1.780026\n",
              "18573  127.764389 -32.252064  -2.483457  ... -4.318448       -23.805891 -1.780026\n",
              "18574  127.764442 -32.252064  -2.483457  ... -4.314469       -23.805891 -1.780026\n",
              "18575  127.764335 -32.252064  -2.483457  ... -4.312643       -23.805891 -1.780026\n",
              "\n",
              "[2064 rows x 10 columns]"
            ]
          },
          "metadata": {},
          "execution_count": 107
        }
      ]
    },
    {
      "cell_type": "code",
      "metadata": {
        "id": "GRzRXyh1yNBg"
      },
      "source": [
        "for col in (test_df.columns):\n",
        "  std = np.std(Old_train_df[col])\n",
        "  Mean = np.mean(Old_train_df[col])\n",
        "  test_df[col] = (test_df[col] - Mean)/ std"
      ],
      "execution_count": null,
      "outputs": []
    },
    {
      "cell_type": "code",
      "metadata": {
        "colab": {
          "base_uri": "https://localhost:8080/",
          "height": 424
        },
        "id": "YweY1rpDzV_6",
        "outputId": "3213174e-9fc0-4c9f-a25b-a95183dfe729"
      },
      "source": [
        "test_df"
      ],
      "execution_count": null,
      "outputs": [
        {
          "output_type": "execute_result",
          "data": {
            "text/html": [
              "<div>\n",
              "<style scoped>\n",
              "    .dataframe tbody tr th:only-of-type {\n",
              "        vertical-align: middle;\n",
              "    }\n",
              "\n",
              "    .dataframe tbody tr th {\n",
              "        vertical-align: top;\n",
              "    }\n",
              "\n",
              "    .dataframe thead th {\n",
              "        text-align: right;\n",
              "    }\n",
              "</style>\n",
              "<table border=\"1\" class=\"dataframe\">\n",
              "  <thead>\n",
              "    <tr style=\"text-align: right;\">\n",
              "      <th></th>\n",
              "      <th>longitude</th>\n",
              "      <th>latitude</th>\n",
              "      <th>house_age</th>\n",
              "      <th>rooms</th>\n",
              "      <th>bedrooms</th>\n",
              "      <th>poputation</th>\n",
              "      <th>households</th>\n",
              "      <th>income</th>\n",
              "      <th>ocean_proximity</th>\n",
              "      <th>price</th>\n",
              "    </tr>\n",
              "  </thead>\n",
              "  <tbody>\n",
              "    <tr>\n",
              "      <th>16512</th>\n",
              "      <td>128.410442</td>\n",
              "      <td>-32.351496</td>\n",
              "      <td>-2.483457</td>\n",
              "      <td>-1.172442</td>\n",
              "      <td>-1.257399</td>\n",
              "      <td>-1.239722</td>\n",
              "      <td>-1.284869</td>\n",
              "      <td>-4.335603</td>\n",
              "      <td>-25.074719</td>\n",
              "      <td>-1.780026</td>\n",
              "    </tr>\n",
              "    <tr>\n",
              "      <th>16513</th>\n",
              "      <td>128.410442</td>\n",
              "      <td>-32.351376</td>\n",
              "      <td>-2.483457</td>\n",
              "      <td>-1.172442</td>\n",
              "      <td>-1.257399</td>\n",
              "      <td>-1.239722</td>\n",
              "      <td>-1.284869</td>\n",
              "      <td>-4.332050</td>\n",
              "      <td>-25.074719</td>\n",
              "      <td>-1.780026</td>\n",
              "    </tr>\n",
              "    <tr>\n",
              "      <th>16514</th>\n",
              "      <td>128.410442</td>\n",
              "      <td>-32.351390</td>\n",
              "      <td>-2.483457</td>\n",
              "      <td>-1.172442</td>\n",
              "      <td>-1.257399</td>\n",
              "      <td>-1.239722</td>\n",
              "      <td>-1.284869</td>\n",
              "      <td>-4.337442</td>\n",
              "      <td>-25.074719</td>\n",
              "      <td>-1.780026</td>\n",
              "    </tr>\n",
              "    <tr>\n",
              "      <th>16515</th>\n",
              "      <td>128.410442</td>\n",
              "      <td>-32.351390</td>\n",
              "      <td>-2.483457</td>\n",
              "      <td>-1.172442</td>\n",
              "      <td>-1.257399</td>\n",
              "      <td>-1.239722</td>\n",
              "      <td>-1.284869</td>\n",
              "      <td>-4.337420</td>\n",
              "      <td>-25.074719</td>\n",
              "      <td>-1.780026</td>\n",
              "    </tr>\n",
              "    <tr>\n",
              "      <th>16516</th>\n",
              "      <td>128.410470</td>\n",
              "      <td>-32.351376</td>\n",
              "      <td>-2.483457</td>\n",
              "      <td>-1.172442</td>\n",
              "      <td>-1.257399</td>\n",
              "      <td>-1.239722</td>\n",
              "      <td>-1.284869</td>\n",
              "      <td>-4.334332</td>\n",
              "      <td>-25.074719</td>\n",
              "      <td>-1.780026</td>\n",
              "    </tr>\n",
              "    <tr>\n",
              "      <th>...</th>\n",
              "      <td>...</td>\n",
              "      <td>...</td>\n",
              "      <td>...</td>\n",
              "      <td>...</td>\n",
              "      <td>...</td>\n",
              "      <td>...</td>\n",
              "      <td>...</td>\n",
              "      <td>...</td>\n",
              "      <td>...</td>\n",
              "      <td>...</td>\n",
              "    </tr>\n",
              "    <tr>\n",
              "      <th>18571</th>\n",
              "      <td>128.408938</td>\n",
              "      <td>-32.352564</td>\n",
              "      <td>-2.483457</td>\n",
              "      <td>-1.172442</td>\n",
              "      <td>-1.257399</td>\n",
              "      <td>-1.239722</td>\n",
              "      <td>-1.284869</td>\n",
              "      <td>-4.332850</td>\n",
              "      <td>-30.305895</td>\n",
              "      <td>-1.780026</td>\n",
              "    </tr>\n",
              "    <tr>\n",
              "      <th>18572</th>\n",
              "      <td>128.408966</td>\n",
              "      <td>-32.352577</td>\n",
              "      <td>-2.483457</td>\n",
              "      <td>-1.172442</td>\n",
              "      <td>-1.257399</td>\n",
              "      <td>-1.239722</td>\n",
              "      <td>-1.284869</td>\n",
              "      <td>-4.338973</td>\n",
              "      <td>-30.305895</td>\n",
              "      <td>-1.780026</td>\n",
              "    </tr>\n",
              "    <tr>\n",
              "      <th>18573</th>\n",
              "      <td>128.408938</td>\n",
              "      <td>-32.352577</td>\n",
              "      <td>-2.483457</td>\n",
              "      <td>-1.172442</td>\n",
              "      <td>-1.257399</td>\n",
              "      <td>-1.239722</td>\n",
              "      <td>-1.284869</td>\n",
              "      <td>-4.338002</td>\n",
              "      <td>-30.305895</td>\n",
              "      <td>-1.780026</td>\n",
              "    </tr>\n",
              "    <tr>\n",
              "      <th>18574</th>\n",
              "      <td>128.408966</td>\n",
              "      <td>-32.352577</td>\n",
              "      <td>-2.483457</td>\n",
              "      <td>-1.172442</td>\n",
              "      <td>-1.257399</td>\n",
              "      <td>-1.239722</td>\n",
              "      <td>-1.284869</td>\n",
              "      <td>-4.335876</td>\n",
              "      <td>-30.305895</td>\n",
              "      <td>-1.780026</td>\n",
              "    </tr>\n",
              "    <tr>\n",
              "      <th>18575</th>\n",
              "      <td>128.408911</td>\n",
              "      <td>-32.352577</td>\n",
              "      <td>-2.483457</td>\n",
              "      <td>-1.172442</td>\n",
              "      <td>-1.257399</td>\n",
              "      <td>-1.239722</td>\n",
              "      <td>-1.284869</td>\n",
              "      <td>-4.334901</td>\n",
              "      <td>-30.305895</td>\n",
              "      <td>-1.780026</td>\n",
              "    </tr>\n",
              "  </tbody>\n",
              "</table>\n",
              "<p>2064 rows × 10 columns</p>\n",
              "</div>"
            ],
            "text/plain": [
              "        longitude   latitude  house_age  ...    income  ocean_proximity     price\n",
              "16512  128.410442 -32.351496  -2.483457  ... -4.335603       -25.074719 -1.780026\n",
              "16513  128.410442 -32.351376  -2.483457  ... -4.332050       -25.074719 -1.780026\n",
              "16514  128.410442 -32.351390  -2.483457  ... -4.337442       -25.074719 -1.780026\n",
              "16515  128.410442 -32.351390  -2.483457  ... -4.337420       -25.074719 -1.780026\n",
              "16516  128.410470 -32.351376  -2.483457  ... -4.334332       -25.074719 -1.780026\n",
              "...           ...        ...        ...  ...       ...              ...       ...\n",
              "18571  128.408938 -32.352564  -2.483457  ... -4.332850       -30.305895 -1.780026\n",
              "18572  128.408966 -32.352577  -2.483457  ... -4.338973       -30.305895 -1.780026\n",
              "18573  128.408938 -32.352577  -2.483457  ... -4.338002       -30.305895 -1.780026\n",
              "18574  128.408966 -32.352577  -2.483457  ... -4.335876       -30.305895 -1.780026\n",
              "18575  128.408911 -32.352577  -2.483457  ... -4.334901       -30.305895 -1.780026\n",
              "\n",
              "[2064 rows x 10 columns]"
            ]
          },
          "metadata": {},
          "execution_count": 109
        }
      ]
    },
    {
      "cell_type": "code",
      "metadata": {
        "id": "jU15UNvqWZ_x"
      },
      "source": [
        "test_data = test_df.values\n",
        "\n",
        "Y_test = test_data[:, -1].reshape(test_data.shape[0],1)\n",
        "X_test = test_data[:, :-1]\n",
        "\n",
        "X_test = np.vstack((np.ones((X_test.shape[0], )), X_test.T)).T\n"
      ],
      "execution_count": null,
      "outputs": []
    },
    {
      "cell_type": "code",
      "metadata": {
        "id": "aI9UuNokXGJd"
      },
      "source": [
        "X_test = X_test.astype('float64')\n",
        "theta = theta.astype('float64')"
      ],
      "execution_count": null,
      "outputs": []
    },
    {
      "cell_type": "code",
      "metadata": {
        "id": "4209eVR3eAI6"
      },
      "source": [
        "#Waste Cell"
      ],
      "execution_count": null,
      "outputs": []
    },
    {
      "cell_type": "code",
      "metadata": {
        "colab": {
          "base_uri": "https://localhost:8080/"
        },
        "id": "6VcnB01IWx5e",
        "outputId": "05b0aa7c-932a-4b89-fb65-ea9a5ccf7d63"
      },
      "source": [
        "\n",
        "y_pred = np.dot(X_test, theta)\n",
        "error = (1/X_test.shape[0])*np.sum(np.abs(y_pred - Y_test))\n",
        "\n",
        "error"
      ],
      "execution_count": null,
      "outputs": [
        {
          "output_type": "execute_result",
          "data": {
            "text/plain": [
              "1.5389715473057919"
            ]
          },
          "metadata": {},
          "execution_count": 112
        }
      ]
    },
    {
      "cell_type": "code",
      "metadata": {
        "id": "al1gcL820xm-"
      },
      "source": [
        ""
      ],
      "execution_count": null,
      "outputs": []
    }
  ]
}